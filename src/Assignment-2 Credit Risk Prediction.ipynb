{
 "cells": [
  {
   "cell_type": "code",
   "execution_count": 2,
   "metadata": {},
   "outputs": [],
   "source": [
    "import pandas as pd\n",
    "import seaborn as sns\n",
    "import matplotlib.pyplot as plt\n",
    "\n",
    "train = pd.read_csv(\"train.csv\")\n",
    "\n",
    "test = pd.read_csv(\"test.csv\")\n",
    "\n",
    "train.columns = ['id', 'nlast_degree', 'nworkhours', 'c-', 'coccupation', 'ngains', 'nloss', 'cmarital', 'cemployment', 'ceducation', 'crace',\n",
    "       'cgender', 'credit']\n",
    "\n",
    "test.columns = ['id', 'nlast_degree', 'nworkhours', 'c-', 'coccupation', 'ngains', 'nloss', 'cmarital', 'cemployment', 'ceducation', 'crace',\n",
    "       'cgender']\n"
   ]
  },
  {
   "cell_type": "code",
   "execution_count": 3,
   "metadata": {},
   "outputs": [
    {
     "data": {
      "text/html": [
       "<div>\n",
       "<style scoped>\n",
       "    .dataframe tbody tr th:only-of-type {\n",
       "        vertical-align: middle;\n",
       "    }\n",
       "\n",
       "    .dataframe tbody tr th {\n",
       "        vertical-align: top;\n",
       "    }\n",
       "\n",
       "    .dataframe thead th {\n",
       "        text-align: right;\n",
       "    }\n",
       "</style>\n",
       "<table border=\"1\" class=\"dataframe\">\n",
       "  <thead>\n",
       "    <tr style=\"text-align: right;\">\n",
       "      <th></th>\n",
       "      <th>id</th>\n",
       "      <th>nlast_degree</th>\n",
       "      <th>nworkhours</th>\n",
       "      <th>c-</th>\n",
       "      <th>coccupation</th>\n",
       "      <th>ngains</th>\n",
       "      <th>nloss</th>\n",
       "      <th>cmarital</th>\n",
       "      <th>cemployment</th>\n",
       "      <th>ceducation</th>\n",
       "      <th>crace</th>\n",
       "      <th>cgender</th>\n",
       "      <th>credit</th>\n",
       "    </tr>\n",
       "  </thead>\n",
       "  <tbody>\n",
       "    <tr>\n",
       "      <td>0</td>\n",
       "      <td>0</td>\n",
       "      <td>13</td>\n",
       "      <td>40</td>\n",
       "      <td>1</td>\n",
       "      <td>1</td>\n",
       "      <td>2174</td>\n",
       "      <td>0</td>\n",
       "      <td>4</td>\n",
       "      <td>7</td>\n",
       "      <td>9</td>\n",
       "      <td>White</td>\n",
       "      <td>Male</td>\n",
       "      <td>0</td>\n",
       "    </tr>\n",
       "    <tr>\n",
       "      <td>1</td>\n",
       "      <td>1</td>\n",
       "      <td>13</td>\n",
       "      <td>13</td>\n",
       "      <td>0</td>\n",
       "      <td>4</td>\n",
       "      <td>0</td>\n",
       "      <td>0</td>\n",
       "      <td>2</td>\n",
       "      <td>6</td>\n",
       "      <td>9</td>\n",
       "      <td>White</td>\n",
       "      <td>Male</td>\n",
       "      <td>0</td>\n",
       "    </tr>\n",
       "    <tr>\n",
       "      <td>2</td>\n",
       "      <td>2</td>\n",
       "      <td>9</td>\n",
       "      <td>40</td>\n",
       "      <td>1</td>\n",
       "      <td>6</td>\n",
       "      <td>0</td>\n",
       "      <td>0</td>\n",
       "      <td>0</td>\n",
       "      <td>4</td>\n",
       "      <td>11</td>\n",
       "      <td>White</td>\n",
       "      <td>Male</td>\n",
       "      <td>0</td>\n",
       "    </tr>\n",
       "    <tr>\n",
       "      <td>3</td>\n",
       "      <td>3</td>\n",
       "      <td>7</td>\n",
       "      <td>40</td>\n",
       "      <td>0</td>\n",
       "      <td>6</td>\n",
       "      <td>0</td>\n",
       "      <td>0</td>\n",
       "      <td>2</td>\n",
       "      <td>4</td>\n",
       "      <td>1</td>\n",
       "      <td>Black</td>\n",
       "      <td>Male</td>\n",
       "      <td>0</td>\n",
       "    </tr>\n",
       "    <tr>\n",
       "      <td>4</td>\n",
       "      <td>4</td>\n",
       "      <td>13</td>\n",
       "      <td>40</td>\n",
       "      <td>5</td>\n",
       "      <td>10</td>\n",
       "      <td>0</td>\n",
       "      <td>0</td>\n",
       "      <td>2</td>\n",
       "      <td>4</td>\n",
       "      <td>9</td>\n",
       "      <td>Black</td>\n",
       "      <td>Female</td>\n",
       "      <td>0</td>\n",
       "    </tr>\n",
       "  </tbody>\n",
       "</table>\n",
       "</div>"
      ],
      "text/plain": [
       "   id  nlast_degree  nworkhours  c-  coccupation  ngains  nloss  cmarital  \\\n",
       "0   0            13          40   1            1    2174      0         4   \n",
       "1   1            13          13   0            4       0      0         2   \n",
       "2   2             9          40   1            6       0      0         0   \n",
       "3   3             7          40   0            6       0      0         2   \n",
       "4   4            13          40   5           10       0      0         2   \n",
       "\n",
       "   cemployment  ceducation   crace  cgender  credit  \n",
       "0            7           9   White     Male       0  \n",
       "1            6           9   White     Male       0  \n",
       "2            4          11   White     Male       0  \n",
       "3            4           1   Black     Male       0  \n",
       "4            4           9   Black   Female       0  "
      ]
     },
     "execution_count": 3,
     "metadata": {},
     "output_type": "execute_result"
    }
   ],
   "source": [
    "train.head()"
   ]
  },
  {
   "cell_type": "code",
   "execution_count": 4,
   "metadata": {},
   "outputs": [
    {
     "data": {
      "text/plain": [
       "<matplotlib.axes._subplots.AxesSubplot at 0x12be35ffd88>"
      ]
     },
     "execution_count": 4,
     "metadata": {},
     "output_type": "execute_result"
    },
    {
     "data": {
      "image/png": "[encoded data removed]",
      "text/plain": [
       "<Figure size 432x288 with 1 Axes>"
      ]
     },
     "metadata": {
      "needs_background": "light"
     },
     "output_type": "display_data"
    }
   ],
   "source": [
    "#using value_counts() to analyze the 0s and 1s\n",
    "train[\"credit\"].value_counts(normalize=True).plot.bar(title = 'credit')"
   ]
  },
  {
   "cell_type": "code",
   "execution_count": 5,
   "metadata": {},
   "outputs": [],
   "source": [
    "#using one-hot encoder for train data\n",
    "gen = pd.get_dummies(train.cgender)\n",
    "\n",
    "rac = pd.get_dummies(train.crace)\n"
   ]
  },
  {
   "cell_type": "code",
   "execution_count": 6,
   "metadata": {},
   "outputs": [],
   "source": [
    "train[\"Male\"] = gen[[' Male']]\n",
    "train[\"Female\"] = gen[[' Female']]\n",
    "\n",
    "train['Amer-Indian-Eskimo']=rac[[' Amer-Indian-Eskimo']]\n",
    "train['Asian-Pac-Islander']=rac[[' Asian-Pac-Islander']]\n",
    "train['Black']=rac[[' Black']]\n",
    "train['Other']=rac[[' Other']]\n",
    "train['White']=rac[[' White']]\n",
    "\n",
    "del train['cgender']\n",
    "del train['crace']"
   ]
  },
  {
   "cell_type": "code",
   "execution_count": 7,
   "metadata": {},
   "outputs": [
    {
     "data": {
      "text/html": [
       "<div>\n",
       "<style scoped>\n",
       "    .dataframe tbody tr th:only-of-type {\n",
       "        vertical-align: middle;\n",
       "    }\n",
       "\n",
       "    .dataframe tbody tr th {\n",
       "        vertical-align: top;\n",
       "    }\n",
       "\n",
       "    .dataframe thead th {\n",
       "        text-align: right;\n",
       "    }\n",
       "</style>\n",
       "<table border=\"1\" class=\"dataframe\">\n",
       "  <thead>\n",
       "    <tr style=\"text-align: right;\">\n",
       "      <th></th>\n",
       "      <th>id</th>\n",
       "      <th>nlast_degree</th>\n",
       "      <th>nworkhours</th>\n",
       "      <th>c-</th>\n",
       "      <th>coccupation</th>\n",
       "      <th>ngains</th>\n",
       "      <th>nloss</th>\n",
       "      <th>cmarital</th>\n",
       "      <th>cemployment</th>\n",
       "      <th>ceducation</th>\n",
       "      <th>credit</th>\n",
       "      <th>Male</th>\n",
       "      <th>Female</th>\n",
       "      <th>Amer-Indian-Eskimo</th>\n",
       "      <th>Asian-Pac-Islander</th>\n",
       "      <th>Black</th>\n",
       "      <th>Other</th>\n",
       "      <th>White</th>\n",
       "    </tr>\n",
       "  </thead>\n",
       "  <tbody>\n",
       "    <tr>\n",
       "      <td>0</td>\n",
       "      <td>0</td>\n",
       "      <td>13</td>\n",
       "      <td>40</td>\n",
       "      <td>1</td>\n",
       "      <td>1</td>\n",
       "      <td>2174</td>\n",
       "      <td>0</td>\n",
       "      <td>4</td>\n",
       "      <td>7</td>\n",
       "      <td>9</td>\n",
       "      <td>0</td>\n",
       "      <td>1</td>\n",
       "      <td>0</td>\n",
       "      <td>0</td>\n",
       "      <td>0</td>\n",
       "      <td>0</td>\n",
       "      <td>0</td>\n",
       "      <td>1</td>\n",
       "    </tr>\n",
       "    <tr>\n",
       "      <td>1</td>\n",
       "      <td>1</td>\n",
       "      <td>13</td>\n",
       "      <td>13</td>\n",
       "      <td>0</td>\n",
       "      <td>4</td>\n",
       "      <td>0</td>\n",
       "      <td>0</td>\n",
       "      <td>2</td>\n",
       "      <td>6</td>\n",
       "      <td>9</td>\n",
       "      <td>0</td>\n",
       "      <td>1</td>\n",
       "      <td>0</td>\n",
       "      <td>0</td>\n",
       "      <td>0</td>\n",
       "      <td>0</td>\n",
       "      <td>0</td>\n",
       "      <td>1</td>\n",
       "    </tr>\n",
       "    <tr>\n",
       "      <td>2</td>\n",
       "      <td>2</td>\n",
       "      <td>9</td>\n",
       "      <td>40</td>\n",
       "      <td>1</td>\n",
       "      <td>6</td>\n",
       "      <td>0</td>\n",
       "      <td>0</td>\n",
       "      <td>0</td>\n",
       "      <td>4</td>\n",
       "      <td>11</td>\n",
       "      <td>0</td>\n",
       "      <td>1</td>\n",
       "      <td>0</td>\n",
       "      <td>0</td>\n",
       "      <td>0</td>\n",
       "      <td>0</td>\n",
       "      <td>0</td>\n",
       "      <td>1</td>\n",
       "    </tr>\n",
       "    <tr>\n",
       "      <td>3</td>\n",
       "      <td>3</td>\n",
       "      <td>7</td>\n",
       "      <td>40</td>\n",
       "      <td>0</td>\n",
       "      <td>6</td>\n",
       "      <td>0</td>\n",
       "      <td>0</td>\n",
       "      <td>2</td>\n",
       "      <td>4</td>\n",
       "      <td>1</td>\n",
       "      <td>0</td>\n",
       "      <td>1</td>\n",
       "      <td>0</td>\n",
       "      <td>0</td>\n",
       "      <td>0</td>\n",
       "      <td>1</td>\n",
       "      <td>0</td>\n",
       "      <td>0</td>\n",
       "    </tr>\n",
       "    <tr>\n",
       "      <td>4</td>\n",
       "      <td>4</td>\n",
       "      <td>13</td>\n",
       "      <td>40</td>\n",
       "      <td>5</td>\n",
       "      <td>10</td>\n",
       "      <td>0</td>\n",
       "      <td>0</td>\n",
       "      <td>2</td>\n",
       "      <td>4</td>\n",
       "      <td>9</td>\n",
       "      <td>0</td>\n",
       "      <td>0</td>\n",
       "      <td>1</td>\n",
       "      <td>0</td>\n",
       "      <td>0</td>\n",
       "      <td>1</td>\n",
       "      <td>0</td>\n",
       "      <td>0</td>\n",
       "    </tr>\n",
       "  </tbody>\n",
       "</table>\n",
       "</div>"
      ],
      "text/plain": [
       "   id  nlast_degree  nworkhours  c-  coccupation  ngains  nloss  cmarital  \\\n",
       "0   0            13          40   1            1    2174      0         4   \n",
       "1   1            13          13   0            4       0      0         2   \n",
       "2   2             9          40   1            6       0      0         0   \n",
       "3   3             7          40   0            6       0      0         2   \n",
       "4   4            13          40   5           10       0      0         2   \n",
       "\n",
       "   cemployment  ceducation  credit  Male  Female  Amer-Indian-Eskimo  \\\n",
       "0            7           9       0     1       0                   0   \n",
       "1            6           9       0     1       0                   0   \n",
       "2            4          11       0     1       0                   0   \n",
       "3            4           1       0     1       0                   0   \n",
       "4            4           9       0     0       1                   0   \n",
       "\n",
       "   Asian-Pac-Islander  Black  Other  White  \n",
       "0                   0      0      0      1  \n",
       "1                   0      0      0      1  \n",
       "2                   0      0      0      1  \n",
       "3                   0      1      0      0  \n",
       "4                   0      1      0      0  "
      ]
     },
     "execution_count": 7,
     "metadata": {},
     "output_type": "execute_result"
    }
   ],
   "source": [
    "train.head()"
   ]
  },
  {
   "cell_type": "code",
   "execution_count": 8,
   "metadata": {},
   "outputs": [
    {
     "data": {
      "text/plain": [
       "Text(0.5, 1, 'train.corr')"
      ]
     },
     "execution_count": 8,
     "metadata": {},
     "output_type": "execute_result"
    },
    {
     "data": {
      "image/png": "[encoded data removed]",
      "text/plain": [
       "<Figure size 432x288 with 2 Axes>"
      ]
     },
     "metadata": {
      "needs_background": "light"
     },
     "output_type": "display_data"
    }
   ],
   "source": [
    "#heatmap of features\n",
    "sns.heatmap(train.corr(),cmap = 'coolwarm')\n",
    "plt.title('train.corr')"
   ]
  },
  {
   "cell_type": "code",
   "execution_count": 9,
   "metadata": {},
   "outputs": [],
   "source": [
    "#One-hot encoder for test\n",
    "gen1 = pd.get_dummies(test.cgender)\n",
    "rac1 = pd.get_dummies(test.crace)\n",
    "\n",
    "test[\"Male\"] = gen1[[' Male']]\n",
    "test[\"Female\"] = gen1[[' Female']]\n",
    "\n",
    "test['Amer-Indian-Eskimo']=rac1[[' Amer-Indian-Eskimo']]\n",
    "test['Asian-Pac-Islander']=rac1[[' Asian-Pac-Islander']]\n",
    "test['Black']=rac1[[' Black']]\n",
    "test['Other']=rac1[[' Other']]\n",
    "test['White']=rac1[[' White']]\n",
    "\n",
    "del test['cgender']\n",
    "del test['crace']\n",
    "del train['c-']\n",
    "del test['c-']"
   ]
  },
  {
   "cell_type": "code",
   "execution_count": 10,
   "metadata": {},
   "outputs": [],
   "source": [
    "#splitting the credit into classes\n",
    "del train['id']\n",
    "del test['id']\n",
    "\n",
    "class0 = train.loc[train['credit'] == 0]\n",
    "class1 = train.loc[train['credit'] == 1]\n",
    "\n",
    "y_train = train['credit']\n",
    "del train['credit']\n"
   ]
  },
  {
   "cell_type": "code",
   "execution_count": 11,
   "metadata": {},
   "outputs": [],
   "source": [
    "#resampling the unbalanced data\n",
    "from sklearn.model_selection import train_test_split\n",
    "\n",
    "train0, test0 = train_test_split(class0, test_size=0.2)\n",
    "train1, test1 = train_test_split(class1, test_size=0.2)\n",
    "\n",
    "from sklearn.utils import resample\n",
    "train1_upsampled = resample(train1,\n",
    "                          replace=True, # sample with replacement\n",
    "                          n_samples=len(train0), # match number in majority class\n",
    "                          random_state=27) # reproducible results\n",
    "\n",
    "train2 = pd.concat([train0,train1_upsampled])"
   ]
  },
  {
   "cell_type": "code",
   "execution_count": 12,
   "metadata": {},
   "outputs": [],
   "source": [
    "#concatenating the resampled data \n",
    "test2 = pd.concat([test0,test1])\n",
    "y_train2 = train2['credit']\n",
    "del train2['credit']\n",
    "y_test2 = test2['credit']\n",
    "del test2['credit']"
   ]
  },
  {
   "cell_type": "code",
   "execution_count": 13,
   "metadata": {
    "scrolled": true
   },
   "outputs": [
    {
     "data": {
      "text/plain": [
       "BaggingClassifier(base_estimator=DecisionTreeClassifier(class_weight=None,\n",
       "                                                        criterion='gini',\n",
       "                                                        max_depth=None,\n",
       "                                                        max_features=None,\n",
       "                                                        max_leaf_nodes=None,\n",
       "                                                        min_impurity_decrease=0.0,\n",
       "                                                        min_impurity_split=None,\n",
       "                                                        min_samples_leaf=1,\n",
       "                                                        min_samples_split=2,\n",
       "                                                        min_weight_fraction_leaf=0.0,\n",
       "                                                        presort=False,\n",
       "                                                        random_state=None,\n",
       "                                                        splitter='best'),\n",
       "                  bootstrap=True, bootstrap_features=False, max_features=1.0,\n",
       "                  max_samples=1.0, n_estimators=100, n_jobs=None,\n",
       "                  oob_score=False, random_state=7, verbose=0, warm_start=False)"
      ]
     },
     "execution_count": 13,
     "metadata": {},
     "output_type": "execute_result"
    }
   ],
   "source": [
    "#Model selection and DesicionTreeClassifier & BaggingClassifier\n",
    "\n",
    "from sklearn import model_selection\n",
    "from sklearn.ensemble import BaggingClassifier\n",
    "from sklearn.tree import DecisionTreeClassifier\n",
    "kfold = model_selection.KFold(n_splits=10, random_state=7)\n",
    "cart = DecisionTreeClassifier()\n",
    "num_trees = 100\n",
    "model = BaggingClassifier(base_estimator=cart, n_estimators=num_trees, random_state=7)\n",
    "model.fit(train2,y_train2)"
   ]
  },
  {
   "cell_type": "code",
   "execution_count": 14,
   "metadata": {},
   "outputs": [
    {
     "data": {
      "text/plain": [
       "0.6611570247933883"
      ]
     },
     "execution_count": 14,
     "metadata": {},
     "output_type": "execute_result"
    }
   ],
   "source": [
    "bp = model.predict(test2)\n",
    "\n",
    "from sklearn.metrics import f1_score\n",
    "#getting the f1_score\n",
    "\n",
    "f1_score(y_test2,bp)\n"
   ]
  },
  {
   "cell_type": "code",
   "execution_count": 15,
   "metadata": {},
   "outputs": [],
   "source": [
    "\n",
    "from sklearn.ensemble import RandomForestClassifier\n",
    "\n",
    "from sklearn.metrics import f1_score"
   ]
  },
  {
   "cell_type": "code",
   "execution_count": 16,
   "metadata": {},
   "outputs": [
    {
     "data": {
      "text/plain": [
       "32561"
      ]
     },
     "execution_count": 16,
     "metadata": {},
     "output_type": "execute_result"
    }
   ],
   "source": [
    "len(train)"
   ]
  },
  {
   "cell_type": "code",
   "execution_count": 17,
   "metadata": {},
   "outputs": [
    {
     "name": "stderr",
     "output_type": "stream",
     "text": [
      "C:\\Users\\hasmi\\Anaconda3\\lib\\site-packages\\sklearn\\ensemble\\forest.py:245: FutureWarning: The default value of n_estimators will change from 10 in version 0.20 to 100 in 0.22.\n",
      "  \"10 in version 0.20 to 100 in 0.22.\", FutureWarning)\n"
     ]
    },
    {
     "name": "stdout",
     "output_type": "stream",
     "text": [
      "F1 score for rfc: 0.6648260629486471\n"
     ]
    }
   ],
   "source": [
    "#RandomForestClassifier\n",
    "#rfc = RandomForestClassifier()\n",
    "\n",
    "#rfc.fit(train, y_train2)\n",
    "\n",
    "#rfc_predict = rfc.predict(train)\n",
    "\n",
    "#test_predict = rfc.predict(test2)\n",
    "\n",
    "#print('F1 score:',f1_score(y_train2, rfc.predict))\n",
    "from sklearn.ensemble import RandomForestClassifier\n",
    "\n",
    "from sklearn.metrics import f1_score\n",
    "\n",
    "\n",
    "\n",
    "rfc = RandomForestClassifier()\n",
    "\n",
    "rfc.fit(train2, y_train2)\n",
    "\n",
    "rfc_predict = rfc.predict(test2)\n",
    "\n",
    "\n",
    "print('F1 score for rfc:',f1_score(y_test2, rfc_predict))"
   ]
  },
  {
   "cell_type": "code",
   "execution_count": 18,
   "metadata": {},
   "outputs": [
    {
     "data": {
      "text/plain": [
       "RandomForestClassifier(bootstrap=True, class_weight=None, criterion='gini',\n",
       "                       max_depth=None, max_features='auto', max_leaf_nodes=None,\n",
       "                       min_impurity_decrease=0.0, min_impurity_split=None,\n",
       "                       min_samples_leaf=1, min_samples_split=2,\n",
       "                       min_weight_fraction_leaf=0.0, n_estimators=10,\n",
       "                       n_jobs=None, oob_score=False, random_state=None,\n",
       "                       verbose=0, warm_start=False)"
      ]
     },
     "execution_count": 18,
     "metadata": {},
     "output_type": "execute_result"
    }
   ],
   "source": [
    "rfc\n"
   ]
  },
  {
   "cell_type": "code",
   "execution_count": 19,
   "metadata": {},
   "outputs": [],
   "source": [
    "import numpy as np"
   ]
  },
  {
   "cell_type": "code",
   "execution_count": 20,
   "metadata": {},
   "outputs": [
    {
     "data": {
      "text/plain": [
       "(array([0, 1], dtype=int64), array([9277, 4028], dtype=int64))"
      ]
     },
     "execution_count": 20,
     "metadata": {},
     "output_type": "execute_result"
    }
   ],
   "source": [
    "#BaggingClassifier is used for prediction\n",
    "test_predict = model.predict(test)\n",
    "np.unique(test_predict,return_counts=True)"
   ]
  },
  {
   "cell_type": "code",
   "execution_count": 21,
   "metadata": {},
   "outputs": [
    {
     "name": "stdout",
     "output_type": "stream",
     "text": [
      "Finished\n"
     ]
    }
   ],
   "source": [
    "test_predict = model.predict(test)\n",
    "with open(\"./result.txt\", \"w\") as outfile:\n",
    "    outfile.write(\"\\n\".join(str(i) for i in test_predict.tolist()))\n",
    "print('Finished')"
   ]
  }
 ],
 "metadata": {
  "kernelspec": {
   "display_name": "Python 3",
   "language": "python",
   "name": "python3"
  },
  "language_info": {
   "codemirror_mode": {
    "name": "ipython",
    "version": 3
   },
   "file_extension": ".py",
   "mimetype": "text/x-python",
   "name": "python",
   "nbconvert_exporter": "python",
   "pygments_lexer": "ipython3",
   "version": "3.7.4"
  }
 },
 "nbformat": 4,
 "nbformat_minor": 2
}
